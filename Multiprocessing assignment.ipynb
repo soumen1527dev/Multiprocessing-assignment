{
 "cells": [
  {
   "cell_type": "code",
   "execution_count": 1,
   "id": "2941496e-0112-47fb-a7e5-b41860e388da",
   "metadata": {},
   "outputs": [
    {
     "name": "stdout",
     "output_type": "stream",
     "text": [
      "This is my main program\n",
      "This is my multiprocessing program\n"
     ]
    }
   ],
   "source": [
    "# Q1.What is multiprocessing in python? Why is it useful?\n",
    "# Ans :- \n",
    "\n",
    "# Multiprocessing :- Multiprocessing in Python is a technique that allows us to run multiple processes\n",
    "# in parallel, each with its own Python interpreter and memory space. It is particularly\n",
    "# useful for tasks that can be divided into smaller sub-tasks that can be executed concurrently,\n",
    "# taking advantage of modern multi-core processors to improve the performance of CPU-bound or\n",
    "# computationally intensive operations. Python's multiprocessing module provides a way to create\n",
    "# and manage multiple processes within a Python program.\n",
    "\n",
    "# Why it is useful : -\n",
    "\n",
    "# 1. Parallel Execution: Multiprocessing allows you to perform multiple tasks simultaneously by creating\n",
    "# separate processes. Each process can execute its code independently, making it possible to utilize\n",
    "# multiple CPU cores effectively.\n",
    "\n",
    "# 2. Improved Performance: For CPU-bound tasks that can be parallelized, multiprocessing can significantly reduce\n",
    "# the execution time of your program by distributing the workload across multiple cores. This is especially\n",
    "# beneficial on modern computers with multi-core processors.\n",
    "\n",
    "# 3. Isolation: Each process runs in its own memory space, which means that they don't share variables or memory\n",
    "# directly. This isolation can help avoid issues like race conditions and data corruption that can occur in multi-threaded programs.\n",
    "\n",
    "# 4. Robustness: Since processes are separate, if one process crashes or encounters an error, it does not necessarily affect the others.\n",
    "# This can lead to more robust and fault-tolerant programs.\n",
    "\n",
    "# 5.GIL Bypass: In Python, the Global Interpreter Lock (GIL) can limit the execution of threads in a multi-threaded program. Multiprocessing\n",
    "# can bypass the GIL because each process has its own Python interpreter, allowing you to fully utilize multi-core CPUs.\n",
    "\n",
    "# 6. Versatility: Multiprocessing can be used for a wide range of tasks, from parallelizing computationally intensive algorithms to\n",
    "# running multiple independent tasks concurrently, such as web scraping, data processing, or running simulations.\n",
    "\n",
    "# Example :-\n",
    "\n",
    "import multiprocessing\n",
    "\n",
    "def test():\n",
    "    print (\"This is my multiprocessing program\")\n",
    "    \n",
    "if __name__ == '__main__':\n",
    "    m = multiprocessing.Process(target = test)\n",
    "    print (\"This is my main program\")\n",
    "    m.start()\n",
    "    m.join()"
   ]
  },
  {
   "cell_type": "code",
   "execution_count": 2,
   "id": "35245f43-7c1e-4e32-a111-cde336bf405a",
   "metadata": {},
   "outputs": [],
   "source": [
    "# Q2. What are the differences between multiprocessing and multithreading?\n",
    "# Ans :-\n",
    "\n",
    "# Multiprocessing and multithreading are both techniques used to achieve concurrency in a program, but they differ in\n",
    "# how they accomplish this and in which scenarios they are most suitable. Here are the key differences between multiprocessin\n",
    "# and multithreading in Python:\n",
    "    \n",
    "# 1.Core Concept :\n",
    "    \n",
    "#     Multiprocessing: In multiprocessing, multiple processes are created, each with its own separate memory space and\n",
    "#     Python interpreter. These processes run independently and can execute tasks concurrently. They utilize multiple\n",
    "#     CPU cores and can perform well for CPU-bound tasks.\n",
    "    \n",
    "#     Multithreading: In multithreading, multiple threads are created within a single process, and they share the \n",
    "#     same memory space and Python interpreter. Threads are lightweight and are suitable for I/O-bound tasks where \n",
    "#     threads may spend a lot of time waiting for external resources (e.g., reading from files, network operations).\n",
    "    \n",
    "# 2.Isolation :\n",
    "    \n",
    "#     Multiprocessing: Each process in multiprocessing is isolated, meaning that they do not share memory directly.\n",
    "#     This isolation helps avoid many of the issues related to concurrent programming, such as race conditions. Processes\n",
    "#     communicate by using inter-process communication (IPC) mechanisms like queues or pipes.\n",
    "    \n",
    "#     Multithreading: Threads within the same process share the same memory space, which can lead to shared data and variables. \n",
    "#     This shared memory can make multithreading more complex and prone to issues like race conditions, requiring synchronization\n",
    "#     mechanisms (e.g., locks, semaphores) to coordinate access to shared resources.\n",
    "    \n",
    "# 3.Python Global Interpreter Lock (GIL) :\n",
    "    \n",
    "#     Multiprocessing: Multiprocessing bypasses the Global Interpreter Lock (GIL) because each process has its own Python interpreter.\n",
    "#     This allows multiple CPU cores to be fully utilized for CPU-bound tasks.\n",
    "        \n",
    "#     Multithreading: Python's GIL restricts the execution of threads in a multi-threaded program. As a result, in CPU-bound tasks,\n",
    "#     multithreading may not fully utilize multiple CPU cores because only one thread can execute Python bytecode at a time.\n",
    "#     Multithreading is often better suited for I/O-bound tasks where the GIL's impact is less significant.   \n",
    "\n",
    "\n",
    "# 4.Resource Overhead :\n",
    "    \n",
    "#     Multiprocessing: Creating and managing processes can have higher resource overhead compared to threads due to the separate \n",
    "#     memory space and interpreter for each process. This overhead can limit the number of processes you can create.\n",
    "    \n",
    "#     Multithreading: Threads have lower resource overhead compared to processes since they share the same memory space.\n",
    "#     This allows you to create a larger number of threads, but it can also lead to increased complexity in managing shared data.\n",
    "    \n",
    "\n",
    "# 5.Scalability :\n",
    "#     Multiprocessing: Multiprocessing is well-suited for scenarios where you need to utilize multiple CPU cores efficiently \n",
    "#     for CPU-bound tasks. It scales across multiple CPU cores and can take full advantage of available hardware.\n",
    "    \n",
    "#     Multithreading: Multithreading is typically more suitable for I/O-bound tasks, where the program spends a significant amount of time\n",
    "#     waiting for external resources. In such cases, multithreading can provide better responsiveness.\n",
    "    "
   ]
  },
  {
   "cell_type": "code",
   "execution_count": 3,
   "id": "6da9dca2-a06d-4c2b-af10-18f21bb48981",
   "metadata": {},
   "outputs": [
    {
     "name": "stdout",
     "output_type": "stream",
     "text": [
      "This is a child process.\n",
      "Main process continues.\n"
     ]
    }
   ],
   "source": [
    "# Q3. Write a python code to create a process using the multiprocessing module.\n",
    "# Ans :\n",
    "\n",
    "import multiprocessing\n",
    "\n",
    "def my_function():\n",
    "    print(\"This is a child process.\")\n",
    "\n",
    "if __name__ == \"__main__\":\n",
    "  \n",
    "    my_process = multiprocessing.Process(target=my_function)\n",
    "\n",
    "    my_process.start()\n",
    "\n",
    "    my_process.join()\n",
    "\n",
    "    print(\"Main process continues.\")"
   ]
  },
  {
   "cell_type": "code",
   "execution_count": 4,
   "id": "9bd5f2f3-d926-4949-a380-0868cfbdd19d",
   "metadata": {},
   "outputs": [
    {
     "name": "stdout",
     "output_type": "stream",
     "text": [
      "Squared results: [1, 4, 9, 16, 25]\n"
     ]
    }
   ],
   "source": [
    "# Q4. What is a multiprocessing pool in python? Why is it used?\n",
    "# Ans :-\n",
    "\n",
    "# A multiprocessing pool in Python, typically created using the multiprocessing.Pool class from the multiprocessing module,\n",
    "# is a high-level abstraction that simplifies the process of parallelizing tasks across multiple processes.It provides a \n",
    "# convenient way to distribute work among a fixed number of worker processes, making it easier to parallelize tasks,\n",
    "# especially when dealing with a large number of them. Multiprocessing pools are commonly used to harness the power of\n",
    "# multi-core CPUs and improve the performance of CPU-bound or computationally intensive operations.\n",
    "    \n",
    "# why multiprocessing pools are used in Python:\n",
    "\n",
    "# 1.Parallel Execution: Multiprocessing pools allow you to execute multiple tasks concurrently by distributing them\n",
    "# among a specified number of worker processes. Each worker process runs independently, which can lead to significant \n",
    "# performance improvements, especially on multi-core processors.\n",
    "\n",
    "# 2.Efficient Resource Utilization: Modern computers often have multiple CPU cores, and multiprocessing pools make it\n",
    "# easy to utilize these cores efficiently. By dividing the work among multiple processes, you can maximize CPU usage and \n",
    "# decrease the overall execution time of CPU-bound tasks.\n",
    "\n",
    "# 3.Simplified Parallelism: Using a multiprocessing pool simplifies the process of parallelization. You don't need \n",
    "# to manually create and manage individual processes; instead, you provide a function and data to the pool, and it \n",
    "# handles the distribution of work to worker processes.\n",
    "\n",
    "# 4.Data Parallelism: Multiprocessing pools are particularly useful for data parallelism tasks where a function needs \n",
    "# to be applied to a large dataset. The pool automatically splits the data into chunks and assigns them to worker processes, e\n",
    "# nsuring that the workload is evenly distributed.\n",
    "\n",
    "# 5.GIL Bypass: Unlike multithreading in Python, which can be limited by the Global Interpreter Lock (GIL), multiprocessing \n",
    "# pools bypass the GIL. Each process in a pool has its own Python interpreter, allowing it to fully utilize multiple CPU cores for CPU-bound tasks.\n",
    "\n",
    "# 6.Fault Tolerance: Multiprocessing pools provide some level of fault tolerance. If one worker process encounters an error or crashes, \n",
    "# it does not necessarily affect the others. This can lead to more robust and fault-tolerant programs.\n",
    "\n",
    "\n",
    "# Example :-\n",
    "\n",
    "import multiprocessing\n",
    "\n",
    "def square(x):\n",
    "    return x * x\n",
    "\n",
    "if __name__ == \"__main__\":\n",
    "\n",
    "    pool = multiprocessing.Pool(processes=4)\n",
    "\n",
    "    numbers = [1, 2, 3, 4, 5]\n",
    "\n",
    "    results = pool.map(square, numbers)\n",
    "\n",
    "    pool.close()\n",
    "    pool.join()\n",
    "\n",
    "    print(\"Squared results:\", results)"
   ]
  },
  {
   "cell_type": "code",
   "execution_count": 5,
   "id": "d0be9fea-c312-4304-8ea4-1855ba3fda86",
   "metadata": {},
   "outputs": [
    {
     "name": "stdout",
     "output_type": "stream",
     "text": [
      "Results: [2, 4, 6, 8, 10]\n"
     ]
    }
   ],
   "source": [
    "# Q5. How can we create a pool of worker processes in python using the multiprocessing module?\n",
    "# Ans :-\n",
    "\n",
    "import multiprocessing\n",
    "\n",
    "# Function that will be executed by the worker processes\n",
    "def worker_function(number):\n",
    "    result = number * 2\n",
    "    return result\n",
    "\n",
    "if __name__ == \"__main__\":\n",
    "   \n",
    "    pool = multiprocessing.Pool(processes=4)\n",
    "\n",
    "    numbers = [1, 2, 3, 4, 5]\n",
    "\n",
    "    results = pool.map(worker_function, numbers)\n",
    "\n",
    "    pool.close()\n",
    "    pool.join()\n",
    "\n",
    "    print(\"Results:\", results)"
   ]
  },
  {
   "cell_type": "code",
   "execution_count": 7,
   "id": "a35f4da9-a47f-4666-a226-493a7d308058",
   "metadata": {},
   "outputs": [
    {
     "name": "stdout",
     "output_type": "stream",
     "text": [
      "Process 1: 1\n",
      "Process 2: 2\n",
      "Process 3: 3\n",
      "Process 4: 4\n",
      "All processes have finished.\n"
     ]
    }
   ],
   "source": [
    "# Q6. Write a python program to create 4 processes, each process should print a different number using the\n",
    "# multiprocessing module in python.\n",
    "# Ans :-\n",
    "\n",
    "import multiprocessing\n",
    "\n",
    "def print_number(number):\n",
    "    print(f\"Process {number}: {number}\")\n",
    "\n",
    "if __name__ == \"__main__\":\n",
    "\n",
    "    numbers = [1, 2, 3, 4]\n",
    "\n",
    "    processes = []\n",
    "\n",
    "    for number in numbers:\n",
    "        process = multiprocessing.Process(target=print_number, args=(number,))\n",
    "        processes.append(process)\n",
    "\n",
    "    for process in processes:\n",
    "        process.start()\n",
    "\n",
    "    for process in processes:\n",
    "        process.join()\n",
    "\n",
    "    print(\"All processes have finished.\")"
   ]
  },
  {
   "cell_type": "code",
   "execution_count": null,
   "id": "394e0f69-66c2-48b2-8c79-eaea459e09c0",
   "metadata": {},
   "outputs": [],
   "source": []
  }
 ],
 "metadata": {
  "kernelspec": {
   "display_name": "Python 3 (ipykernel)",
   "language": "python",
   "name": "python3"
  },
  "language_info": {
   "codemirror_mode": {
    "name": "ipython",
    "version": 3
   },
   "file_extension": ".py",
   "mimetype": "text/x-python",
   "name": "python",
   "nbconvert_exporter": "python",
   "pygments_lexer": "ipython3",
   "version": "3.10.8"
  }
 },
 "nbformat": 4,
 "nbformat_minor": 5
}
